{
 "cells": [
  {
   "cell_type": "code",
   "execution_count": null,
   "metadata": {},
   "outputs": [],
   "source": [
    "! pip install pyyaml==5.2\n",
    "! pip install scipy\n",
    "! pip install numpy\n",
    "! pip install cython_bbox\n",
    "! pip3 install torch torchvision --extra-index-url https://download.pytorch.org/whl/cu113\n",
    "\n",
    "import torch\n",
    "print(torch.__version__)\n",
    "import yaml, scipy, os\n",
    "print(yaml.__version__)\n",
    "print(scipy.__version__)"
   ]
  },
  {
   "cell_type": "code",
   "execution_count": null,
   "metadata": {},
   "outputs": [],
   "source": [
    "!rm -rf /content/AlphaPose\n",
    "os.chdir('/content/')\n",
    "!git clone https://github.com/1783883121/AlphaPose.git"
   ]
  },
  {
   "cell_type": "code",
   "execution_count": null,
   "metadata": {},
   "outputs": [],
   "source": [
    "!python -m pip install cython\n",
    "!sudo apt-get install libyaml-dev"
   ]
  },
  {
   "cell_type": "code",
   "execution_count": null,
   "metadata": {},
   "outputs": [],
   "source": [
    "\n",
    "os.chdir('/content/AlphaPose')\n",
    "print(os.getcwd())\n",
    "! python setup.py build develop"
   ]
  },
  {
   "cell_type": "code",
   "execution_count": null,
   "metadata": {},
   "outputs": [],
   "source": [
    "!pip install -U -q PyDrive\n",
    "\n",
    "from pydrive.auth import GoogleAuth\n",
    "from pydrive.drive import GoogleDrive\n",
    "from google.colab import auth\n",
    "from oauth2client.client import GoogleCredentials\n",
    "# Authenticate and create the PyDrive client.\n",
    "# This only needs to be done once per notebook.\n",
    "auth.authenticate_user()\n",
    "gauth = GoogleAuth()\n",
    "gauth.credentials = GoogleCredentials.get_application_default()\n",
    "drive = GoogleDrive(gauth)\n",
    "\n",
    "! mkdir /content/AlphaPose/detector/yolo/data\n",
    "file_id = '1D47msNOOiJKvPOXlnpyzdKA3k6E97NTC'\n",
    "downloaded = drive.CreateFile({'id': file_id})\n",
    "downloaded.GetContentFile('/content/AlphaPose/detector/yolo/data/yolov3-spp.weights')\n",
    "\n",
    "! mkdir /content/AlphaPose/detector/tracker/data\n",
    "file_id = '1nlnuYfGNuHWZztQHXwVZSL_FvfE551pA'\n",
    "downloaded = drive.CreateFile({'id': file_id})\n",
    "downloaded.GetContentFile('/content/AlphaPose/detector/tracker/data/JDE-1088x608-uncertainty')\n",
    "\n",
    "file_id = '1kQhnMRURFiy7NsdS8EFL-8vtqEXOgECn'\n",
    "downloaded = drive.CreateFile({'id': file_id})\n",
    "downloaded.GetContentFile('/content/AlphaPose/pretrained_models/fast_res50_256x192.pth')\n",
    "\n",
    "!wget -P ./detector/yolox/data/ https://github.com/Megvii-BaseDetection/YOLOX/releases/download/0.1.0/yolox_x.pth\n",
    "\n"
   ]
  },
  {
   "cell_type": "code",
   "execution_count": null,
   "metadata": {},
   "outputs": [],
   "source": [
    "# 图片识别示例1\n",
    "\n",
    "import os\n",
    "os.chdir('/content/AlphaPose')\n",
    "! ls\n",
    "! python3 scripts/demo_inference.py --cfg configs/coco/resnet/256x192_res50_lr1e-3_1x.yaml --checkpoint pretrained_models/fast_res50_256x192.pth --indir examples/demo/ --save_img\n",
    "# result json and rendered images are saved here:\n",
    "! ls examples/res/\n",
    "! ls examples/res/vis"
   ]
  },
  {
   "cell_type": "code",
   "execution_count": null,
   "metadata": {},
   "outputs": [],
   "source": [
    "# 图片识别示例2 （使用其它模型）\n",
    "\n",
    "import os\n",
    "os.chdir('/content/AlphaPose')\n",
    "! ls\n",
    "! python3 scripts/demo_inference.py --cfg configs/coco/resnet/256x192_res50_lr1e-3_1x.yaml --checkpoint pretrained_models/fast_res50_256x192.pth --indir examples/demo/imgs/ --save_img --pose_track\n",
    "# result json and rendered images are saved here:\n",
    "! ls examples/res/\n",
    "! ls examples/res/vis"
   ]
  },
  {
   "cell_type": "code",
   "execution_count": null,
   "metadata": {},
   "outputs": [],
   "source": [
    "# 视频识别示例\n",
    "\n",
    "\n",
    "import os\n",
    "os.chdir('/content/AlphaPose')\n",
    "# ! python3 scripts/demo_inference.py --cfg configs/coco/resnet/256x192_res50_lr1e-3_1x.yaml --checkpoint pretrained_models/fast_res50_256x192.pth --indir examples/demo/ --save_img\n",
    "\n",
    "!python3 scripts/demo_inference.py --cfg configs/coco/resnet/256x192_res50_lr1e-3_1x.yaml --checkpoint pretrained_models/fast_res50_256x192.pth --video examples/demo/dance.mp4 --outdir examples/res --save_video"
   ]
  }
 ],
 "metadata": {
  "language_info": {
   "name": "python"
  }
 },
 "nbformat": 4,
 "nbformat_minor": 2
}
